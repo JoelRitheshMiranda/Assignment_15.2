{
 "cells": [
  {
   "cell_type": "code",
   "execution_count": 1,
   "metadata": {},
   "outputs": [],
   "source": [
    "# In this assignment students have to find the frequency of words in a webpage. User can\n",
    "# use urllib and BeautifulSoup to extract text from webpage.\n",
    "\n",
    "# import libraries\n",
    "from bs4 import BeautifulSoup\n",
    "import urllib.request\n",
    "import nltk"
   ]
  },
  {
   "cell_type": "code",
   "execution_count": 2,
   "metadata": {},
   "outputs": [],
   "source": [
    "# Import and extract text from a webpage\n",
    "response = urllib.request.urlopen('http://php.net/')\n",
    "html = response.read()\n",
    "soup = BeautifulSoup(html,\"html5lib\")"
   ]
  },
  {
   "cell_type": "code",
   "execution_count": 3,
   "metadata": {
    "scrolled": true
   },
   "outputs": [
    {
     "data": {
      "text/plain": [
       "FreqDist({'the': 237, '.': 220, 'PHP': 177, 'of': 98, ',': 84, 'in': 79, 'can': 78, 'and': 77, 'release': 77, 'The': 75, ...})"
      ]
     },
     "execution_count": 3,
     "metadata": {},
     "output_type": "execute_result"
    }
   ],
   "source": [
    "# Finding word freaquencies on webpage\n",
    "# nltk.download('punkt')\n",
    "nltk.FreqDist(nltk.word_tokenize(soup.text))"
   ]
  }
 ],
 "metadata": {
  "kernelspec": {
   "display_name": "Python 3",
   "language": "python",
   "name": "python3"
  },
  "language_info": {
   "codemirror_mode": {
    "name": "ipython",
    "version": 3
   },
   "file_extension": ".py",
   "mimetype": "text/x-python",
   "name": "python",
   "nbconvert_exporter": "python",
   "pygments_lexer": "ipython3",
   "version": "3.7.0"
  }
 },
 "nbformat": 4,
 "nbformat_minor": 2
}
